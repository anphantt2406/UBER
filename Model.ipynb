{
  "nbformat": 4,
  "nbformat_minor": 0,
  "metadata": {
    "kernelspec": {
      "display_name": "Python 2",
      "language": "python",
      "name": "python2"
    },
    "language_info": {
      "codemirror_mode": {
        "name": "ipython",
        "version": 2
      },
      "file_extension": ".py",
      "mimetype": "text/x-python",
      "name": "python",
      "nbconvert_exporter": "python",
      "pygments_lexer": "ipython2",
      "version": "2.7.15"
    },
    "colab": {
      "name": "HW_04_SVM_Uber_usage.ipynb",
      "provenance": [],
      "collapsed_sections": [],
      "include_colab_link": true
    }
  },
  "cells": [
    {
      "cell_type": "markdown",
      "metadata": {
        "id": "view-in-github",
        "colab_type": "text"
      },
      "source": [
        "<a href=\"https://colab.research.google.com/github/anphantt2406/-SVM-UBER-dataset/blob/main/Model.ipynb\" target=\"_parent\"><img src=\"https://colab.research.google.com/assets/colab-badge.svg\" alt=\"Open In Colab\"/></a>"
      ]
    },
    {
      "cell_type": "code",
      "metadata": {
        "id": "bI6J8O_ewYGt",
        "colab": {
          "base_uri": "https://localhost:8080/"
        },
        "outputId": "117f20a3-e6fe-4470-d292-f67fb157ea91"
      },
      "source": [
        "# import library\n",
        "%load_ext autoreload\n",
        "%autoreload 2\n",
        "import numpy as np\n",
        "import pandas as pd\n",
        "import matplotlib.pyplot as plt\n",
        "from sklearn.svm import SVC\n",
        "from sklearn.metrics import confusion_matrix, roc_auc_score, roc_curve\n",
        "%matplotlib inline"
      ],
      "execution_count": 43,
      "outputs": [
        {
          "output_type": "stream",
          "text": [
            "The autoreload extension is already loaded. To reload it, use:\n",
            "  %reload_ext autoreload\n"
          ],
          "name": "stdout"
        }
      ]
    },
    {
      "cell_type": "code",
      "metadata": {
        "id": "KiEAEs3owYGx",
        "colab": {
          "base_uri": "https://localhost:8080/",
          "height": 343
        },
        "outputId": "f057871f-7311-412c-a767-96890ff12c9a"
      },
      "source": [
        "# import dataset\n",
        "\"\"\"\n",
        "The dataset given by VEF Academy was clean and processed Feature Selection\n",
        "to make it suitable for Support Vectors Machine algorithm\n",
        "\"\"\"\n",
        "dataset = pd.read_csv('https://raw.githubusercontent.com/anphantt2406/UBER/main/uber_usage.csv')\n",
        "display(dataset.head(10))"
      ],
      "execution_count": 44,
      "outputs": [
        {
          "output_type": "display_data",
          "data": {
            "text/plain": [
              "   CustomerID  Gender  Age  AnnualSalary  RegularRider\n",
              "0    15624510    Male   19         19000             0\n",
              "1    15810944    Male   35         20000             0\n",
              "2    15668575  Female   26         43000             0\n",
              "3    15603246  Female   27         57000             0\n",
              "4    15804002    Male   19         76000             0\n",
              "5    15728773    Male   27         58000             0\n",
              "6    15598044  Female   27         84000             0\n",
              "7    15694829  Female   32        150000             1\n",
              "8    15600575    Male   25         33000             0\n",
              "9    15727311  Female   35         65000             0"
            ],
            "text/html": [
              "<div>\n",
              "<style scoped>\n",
              "    .dataframe tbody tr th:only-of-type {\n",
              "        vertical-align: middle;\n",
              "    }\n",
              "\n",
              "    .dataframe tbody tr th {\n",
              "        vertical-align: top;\n",
              "    }\n",
              "\n",
              "    .dataframe thead th {\n",
              "        text-align: right;\n",
              "    }\n",
              "</style>\n",
              "<table border=\"1\" class=\"dataframe\">\n",
              "  <thead>\n",
              "    <tr style=\"text-align: right;\">\n",
              "      <th></th>\n",
              "      <th>CustomerID</th>\n",
              "      <th>Gender</th>\n",
              "      <th>Age</th>\n",
              "      <th>AnnualSalary</th>\n",
              "      <th>RegularRider</th>\n",
              "    </tr>\n",
              "  </thead>\n",
              "  <tbody>\n",
              "    <tr>\n",
              "      <th>0</th>\n",
              "      <td>15624510</td>\n",
              "      <td>Male</td>\n",
              "      <td>19</td>\n",
              "      <td>19000</td>\n",
              "      <td>0</td>\n",
              "    </tr>\n",
              "    <tr>\n",
              "      <th>1</th>\n",
              "      <td>15810944</td>\n",
              "      <td>Male</td>\n",
              "      <td>35</td>\n",
              "      <td>20000</td>\n",
              "      <td>0</td>\n",
              "    </tr>\n",
              "    <tr>\n",
              "      <th>2</th>\n",
              "      <td>15668575</td>\n",
              "      <td>Female</td>\n",
              "      <td>26</td>\n",
              "      <td>43000</td>\n",
              "      <td>0</td>\n",
              "    </tr>\n",
              "    <tr>\n",
              "      <th>3</th>\n",
              "      <td>15603246</td>\n",
              "      <td>Female</td>\n",
              "      <td>27</td>\n",
              "      <td>57000</td>\n",
              "      <td>0</td>\n",
              "    </tr>\n",
              "    <tr>\n",
              "      <th>4</th>\n",
              "      <td>15804002</td>\n",
              "      <td>Male</td>\n",
              "      <td>19</td>\n",
              "      <td>76000</td>\n",
              "      <td>0</td>\n",
              "    </tr>\n",
              "    <tr>\n",
              "      <th>5</th>\n",
              "      <td>15728773</td>\n",
              "      <td>Male</td>\n",
              "      <td>27</td>\n",
              "      <td>58000</td>\n",
              "      <td>0</td>\n",
              "    </tr>\n",
              "    <tr>\n",
              "      <th>6</th>\n",
              "      <td>15598044</td>\n",
              "      <td>Female</td>\n",
              "      <td>27</td>\n",
              "      <td>84000</td>\n",
              "      <td>0</td>\n",
              "    </tr>\n",
              "    <tr>\n",
              "      <th>7</th>\n",
              "      <td>15694829</td>\n",
              "      <td>Female</td>\n",
              "      <td>32</td>\n",
              "      <td>150000</td>\n",
              "      <td>1</td>\n",
              "    </tr>\n",
              "    <tr>\n",
              "      <th>8</th>\n",
              "      <td>15600575</td>\n",
              "      <td>Male</td>\n",
              "      <td>25</td>\n",
              "      <td>33000</td>\n",
              "      <td>0</td>\n",
              "    </tr>\n",
              "    <tr>\n",
              "      <th>9</th>\n",
              "      <td>15727311</td>\n",
              "      <td>Female</td>\n",
              "      <td>35</td>\n",
              "      <td>65000</td>\n",
              "      <td>0</td>\n",
              "    </tr>\n",
              "  </tbody>\n",
              "</table>\n",
              "</div>"
            ]
          },
          "metadata": {
            "tags": []
          }
        }
      ]
    },
    {
      "cell_type": "markdown",
      "metadata": {
        "id": "EeXMB6ortQWo"
      },
      "source": [
        "Target variable **RegularRider** has value 1 when customer uses Uber regularly, and 0 vice versa"
      ]
    },
    {
      "cell_type": "code",
      "metadata": {
        "id": "y_LCjM7LwYG2",
        "colab": {
          "base_uri": "https://localhost:8080/"
        },
        "outputId": "6da22ff0-5646-4b48-bb2f-6c04f196823f"
      },
      "source": [
        "dataset.isna().sum()"
      ],
      "execution_count": 45,
      "outputs": [
        {
          "output_type": "execute_result",
          "data": {
            "text/plain": [
              "CustomerID      0\n",
              "Gender          0\n",
              "Age             0\n",
              "AnnualSalary    0\n",
              "RegularRider    0\n",
              "dtype: int64"
            ]
          },
          "metadata": {
            "tags": []
          },
          "execution_count": 45
        }
      ]
    },
    {
      "cell_type": "code",
      "metadata": {
        "id": "4c2TooC4wYG8",
        "colab": {
          "base_uri": "https://localhost:8080/",
          "height": 284
        },
        "outputId": "e5276860-69aa-4d62-e807-62d30830073d"
      },
      "source": [
        "dataset.describe()"
      ],
      "execution_count": 46,
      "outputs": [
        {
          "output_type": "execute_result",
          "data": {
            "text/plain": [
              "         CustomerID         Age   AnnualSalary  RegularRider\n",
              "count  4.000000e+02  400.000000     400.000000    400.000000\n",
              "mean   1.569154e+07   37.655000   69742.500000      0.357500\n",
              "std    7.165832e+04   10.482877   34096.960282      0.479864\n",
              "min    1.556669e+07   18.000000   15000.000000      0.000000\n",
              "25%    1.562676e+07   29.750000   43000.000000      0.000000\n",
              "50%    1.569434e+07   37.000000   70000.000000      0.000000\n",
              "75%    1.575036e+07   46.000000   88000.000000      1.000000\n",
              "max    1.581524e+07   60.000000  150000.000000      1.000000"
            ],
            "text/html": [
              "<div>\n",
              "<style scoped>\n",
              "    .dataframe tbody tr th:only-of-type {\n",
              "        vertical-align: middle;\n",
              "    }\n",
              "\n",
              "    .dataframe tbody tr th {\n",
              "        vertical-align: top;\n",
              "    }\n",
              "\n",
              "    .dataframe thead th {\n",
              "        text-align: right;\n",
              "    }\n",
              "</style>\n",
              "<table border=\"1\" class=\"dataframe\">\n",
              "  <thead>\n",
              "    <tr style=\"text-align: right;\">\n",
              "      <th></th>\n",
              "      <th>CustomerID</th>\n",
              "      <th>Age</th>\n",
              "      <th>AnnualSalary</th>\n",
              "      <th>RegularRider</th>\n",
              "    </tr>\n",
              "  </thead>\n",
              "  <tbody>\n",
              "    <tr>\n",
              "      <th>count</th>\n",
              "      <td>4.000000e+02</td>\n",
              "      <td>400.000000</td>\n",
              "      <td>400.000000</td>\n",
              "      <td>400.000000</td>\n",
              "    </tr>\n",
              "    <tr>\n",
              "      <th>mean</th>\n",
              "      <td>1.569154e+07</td>\n",
              "      <td>37.655000</td>\n",
              "      <td>69742.500000</td>\n",
              "      <td>0.357500</td>\n",
              "    </tr>\n",
              "    <tr>\n",
              "      <th>std</th>\n",
              "      <td>7.165832e+04</td>\n",
              "      <td>10.482877</td>\n",
              "      <td>34096.960282</td>\n",
              "      <td>0.479864</td>\n",
              "    </tr>\n",
              "    <tr>\n",
              "      <th>min</th>\n",
              "      <td>1.556669e+07</td>\n",
              "      <td>18.000000</td>\n",
              "      <td>15000.000000</td>\n",
              "      <td>0.000000</td>\n",
              "    </tr>\n",
              "    <tr>\n",
              "      <th>25%</th>\n",
              "      <td>1.562676e+07</td>\n",
              "      <td>29.750000</td>\n",
              "      <td>43000.000000</td>\n",
              "      <td>0.000000</td>\n",
              "    </tr>\n",
              "    <tr>\n",
              "      <th>50%</th>\n",
              "      <td>1.569434e+07</td>\n",
              "      <td>37.000000</td>\n",
              "      <td>70000.000000</td>\n",
              "      <td>0.000000</td>\n",
              "    </tr>\n",
              "    <tr>\n",
              "      <th>75%</th>\n",
              "      <td>1.575036e+07</td>\n",
              "      <td>46.000000</td>\n",
              "      <td>88000.000000</td>\n",
              "      <td>1.000000</td>\n",
              "    </tr>\n",
              "    <tr>\n",
              "      <th>max</th>\n",
              "      <td>1.581524e+07</td>\n",
              "      <td>60.000000</td>\n",
              "      <td>150000.000000</td>\n",
              "      <td>1.000000</td>\n",
              "    </tr>\n",
              "  </tbody>\n",
              "</table>\n",
              "</div>"
            ]
          },
          "metadata": {
            "tags": []
          },
          "execution_count": 46
        }
      ]
    },
    {
      "cell_type": "code",
      "metadata": {
        "colab": {
          "base_uri": "https://localhost:8080/"
        },
        "id": "cWuRKUIMucI6",
        "outputId": "961b3bc4-9f31-401e-83d6-1e570578ce20"
      },
      "source": [
        "print(dataset['RegularRider'].skew())\n",
        "print(dataset['RegularRider'].value_counts(normalize = True))"
      ],
      "execution_count": 47,
      "outputs": [
        {
          "output_type": "stream",
          "text": [
            "0.596902836080957\n",
            "0    0.6425\n",
            "1    0.3575\n",
            "Name: RegularRider, dtype: float64\n"
          ],
          "name": "stdout"
        }
      ]
    },
    {
      "cell_type": "markdown",
      "metadata": {
        "id": "-_y5EnKewYHA"
      },
      "source": [
        "## Split the dataset"
      ]
    },
    {
      "cell_type": "code",
      "metadata": {
        "id": "aytemjTlwYGz"
      },
      "source": [
        "X = dataset.iloc[:, [2, 3]].values\n",
        "y = dataset.iloc[:, 4].values"
      ],
      "execution_count": 48,
      "outputs": []
    },
    {
      "cell_type": "code",
      "metadata": {
        "id": "mol6G51RwYHB"
      },
      "source": [
        "from sklearn.model_selection import train_test_split\n",
        "X_train, X_test, y_train, y_test = train_test_split(X, y, test_size = 0.3, \\\n",
        "                                                    random_state = 9999, \\\n",
        "                                                    stratify = y)\n",
        "del dataset"
      ],
      "execution_count": 49,
      "outputs": []
    },
    {
      "cell_type": "code",
      "metadata": {
        "id": "q1S8Qa2ywYHD",
        "colab": {
          "base_uri": "https://localhost:8080/"
        },
        "outputId": "b6c5b646-1017-4ce1-cfdf-4f6b8f587966"
      },
      "source": [
        "print len(X_train), len(X_test), len(y_train), len(y_test)"
      ],
      "execution_count": 50,
      "outputs": [
        {
          "output_type": "stream",
          "text": [
            "280 120 280 120\n"
          ],
          "name": "stdout"
        }
      ]
    },
    {
      "cell_type": "markdown",
      "metadata": {
        "id": "78BATuvDwYHG"
      },
      "source": [
        "## Standardise features using StandardScaler"
      ]
    },
    {
      "cell_type": "code",
      "metadata": {
        "id": "MZbbW3EvwYHH"
      },
      "source": [
        "from sklearn.preprocessing import StandardScaler\n",
        "sc = StandardScaler()\n",
        "X_train = sc.fit_transform(X_train)\n",
        "X_test = sc.transform(X_test)"
      ],
      "execution_count": 51,
      "outputs": []
    },
    {
      "cell_type": "markdown",
      "metadata": {
        "id": "vV42GwmawYHW"
      },
      "source": [
        "## Train model using SVM"
      ]
    },
    {
      "cell_type": "code",
      "metadata": {
        "id": "jh-IlkdcwYHX"
      },
      "source": [
        "# Fitting SVM to the training set\n",
        "# Use probability=True to get the predicted probabilities of the positive class (1) to calculate AUC later on\n",
        "classifier = SVC(kernel = 'linear', random_state = 0, probability=True)\n",
        "classifier.fit(X_train, y_train)\n",
        "\n",
        "# Predicting y and probabilities for the train set\n",
        "y_train_pred = classifier.predict(X_train)\n",
        "# Probabilities will be given for 0 and 1; we only need those for the positive class (1) to calculate AUC \n",
        "y_train_probs = classifier.predict_proba(X_train)[:, 1]\n",
        "\n",
        "# Predicting y and probabilities for the test set\n",
        "y_test_pred = classifier.predict(X_test)\n",
        "# Probabilities\n",
        "y_test_probs = classifier.predict_proba(X_test)[:, 1]"
      ],
      "execution_count": 52,
      "outputs": []
    },
    {
      "cell_type": "markdown",
      "metadata": {
        "id": "Eq-8dlqNwYHZ"
      },
      "source": [
        "**Calculate the TP rate, FP rate, FN rate, Precision, Recall, F1 score, and AUC on the training set and test set. Compare the AUC on the  training set and test set.**"
      ]
    },
    {
      "cell_type": "code",
      "metadata": {
        "id": "qBoNXwD5wYHZ"
      },
      "source": [
        "def cal(y_true, y_pred, y_prob):\n",
        "    \"\"\" \n",
        "    This function to calculate TP rate, FP rate, FN rate, Precision, Recall, F1 score, and AUC\n",
        "    Input: y_true, y_pred, y_prob\n",
        "    y_true: array of ground truth (correct) target values \n",
        "    y_pred: array of predicted target values \n",
        "    y_prob: array of predicted probability of positive class (1)\n",
        "    \"\"\"\n",
        "\n",
        "    # Confusion Matrix\n",
        "    cm = confusion_matrix(y_true, y_pred)\n",
        "    # True Negative, False Positive, False Negative, True Positive\n",
        "    tn, fp, fn, tp = cm.ravel()\n",
        "\n",
        "    # Number of positive cases in the ground truth    \n",
        "    p = float(tp + fn)\n",
        "    # Number of negative cases in the ground truth\n",
        "    n = float(fp + tn)\n",
        "    \n",
        "    # TP rate \n",
        "    tp_rate = tp / p\n",
        "\n",
        "    # FP rate \n",
        "    fp_rate = fp / n\n",
        "    \n",
        "    # FN rate\n",
        "    fn_rate = fn / p\n",
        "    \n",
        "    prec = tp / float(tp + fp)\n",
        "    recall = tp_rate\n",
        "    \n",
        "    f1_score = 2.0*prec*recall/(prec + recall)\n",
        "    \n",
        "    fpr, tpr, thresholds = roc_curve(y_true, y_prob)\n",
        "    plt.plot(fpr, tpr)\n",
        "\n",
        "    auc = roc_auc_score(y_true=y_true, y_score=y_prob)\n",
        "        \n",
        "    return tp_rate, fp_rate, fn_rate, prec, recall, f1_score, auc\n"
      ],
      "execution_count": 53,
      "outputs": []
    },
    {
      "cell_type": "markdown",
      "metadata": {
        "id": "Zl8DktuLwYHc"
      },
      "source": [
        "* **On the training set**"
      ]
    },
    {
      "cell_type": "code",
      "metadata": {
        "id": "BheMsPUrwYHc",
        "colab": {
          "base_uri": "https://localhost:8080/",
          "height": 420
        },
        "outputId": "8ef61cb1-3b8b-411a-aa0b-930cf964b183"
      },
      "source": [
        "# Calculate the parameters on the train set\n",
        "tp_rate_train, fp_rate_train, fn_rate_train, prec_train, recall_train, f1_score_train, auc_train \\\n",
        "                = cal(y_train, y_train_pred, y_train_probs)\n",
        "print('On the training set: ')\n",
        "print()\n",
        "print('True Positive rate =', tp_rate_train)\n",
        "print('False Positive rate = ', fp_rate_train)\n",
        "print('Flase Negative rate =', fn_rate_train)\n",
        "print('Precision =', prec_train)\n",
        "print('Recall =', recall_train)\n",
        "print('F1 score =', f1_score_train)\n",
        "print auc_train\n"
      ],
      "execution_count": 54,
      "outputs": [
        {
          "output_type": "stream",
          "text": [
            "On the training set: \n",
            "()\n",
            "('True Positive rate =', 0.64)\n",
            "('False Positive rate = ', 0.08333333333333333)\n",
            "('Flase Negative rate =', 0.36)\n",
            "('Precision =', 0.810126582278481)\n",
            "('Recall =', 0.64)\n",
            "('F1 score =', 0.7150837988826816)\n",
            "0.9178888888888889\n"
          ],
          "name": "stdout"
        },
        {
          "output_type": "display_data",
          "data": {
            "image/png": "[encoded data removed]",
            "text/plain": [
              "<Figure size 432x288 with 1 Axes>"
            ]
          },
          "metadata": {
            "tags": [],
            "needs_background": "light"
          }
        }
      ]
    },
    {
      "cell_type": "markdown",
      "metadata": {
        "id": "Wk4N6E3mwYHe"
      },
      "source": [
        "* **On the test set**"
      ]
    },
    {
      "cell_type": "code",
      "metadata": {
        "id": "LZ-wCtOgwYHf",
        "colab": {
          "base_uri": "https://localhost:8080/",
          "height": 420
        },
        "outputId": "f008d45e-1253-469e-ec40-c30d43d88365"
      },
      "source": [
        "# Calculate the parameters on the test set\n",
        "tp_rate_test, fp_rate_test, fn_rate_test, prec_test, recall_test, f1_score_test, auc_test \\\n",
        "                = cal(y_test, y_test_pred, y_test_probs)\n",
        "print('On the test set: ')\n",
        "print()\n",
        "print('True Positive rate =', tp_rate_test)\n",
        "print('False Positive rate = ', fp_rate_test)\n",
        "print('Flase Negative rate =', fn_rate_test)\n",
        "print('Precision =', prec_test)\n",
        "print('Recall =', recall_test)\n",
        "print('F1 score =', f1_score_test)\n",
        "print auc_test"
      ],
      "execution_count": 55,
      "outputs": [
        {
          "output_type": "stream",
          "text": [
            "On the test set: \n",
            "()\n",
            "('True Positive rate =', 0.6744186046511628)\n",
            "('False Positive rate = ', 0.025974025974025976)\n",
            "('Flase Negative rate =', 0.32558139534883723)\n",
            "('Precision =', 0.9354838709677419)\n",
            "('Recall =', 0.6744186046511628)\n",
            "('F1 score =', 0.7837837837837838)\n",
            "0.9284204167925099\n"
          ],
          "name": "stdout"
        },
        {
          "output_type": "display_data",
          "data": {
            "image/png": "[encoded data removed]",
            "text/plain": [
              "<Figure size 432x288 with 1 Axes>"
            ]
          },
          "metadata": {
            "tags": [],
            "needs_background": "light"
          }
        }
      ]
    },
    {
      "cell_type": "markdown",
      "metadata": {
        "id": "eGYe_KVewYHh"
      },
      "source": [
        "AUC_test > AUC_train "
      ]
    },
    {
      "cell_type": "markdown",
      "metadata": {
        "id": "mfDVUK-EwYHh"
      },
      "source": [
        "* **Visualize the feature values and labels of the training set using a scatter plot. Also plot the line that is used to separate the two classes**\n",
        "* *Notes: Can use the original values or standardized values for age and salary*"
      ]
    },
    {
      "cell_type": "code",
      "metadata": {
        "id": "iXbLMouPuj0R",
        "colab": {
          "base_uri": "https://localhost:8080/"
        },
        "outputId": "b9e2d54a-ca55-4869-bf7e-2422a125de8d"
      },
      "source": [
        "X_train[y_train == 1, 0]"
      ],
      "execution_count": 56,
      "outputs": [
        {
          "output_type": "execute_result",
          "data": {
            "text/plain": [
              "array([ 1.9530355 , -1.04943489,  2.05311785,  1.05229439,  1.35254143,\n",
              "        1.65278847,  2.1532002 ,  0.95221204,  0.45180031,  0.85212969,\n",
              "        1.15237673,  0.45180031, -0.14869377,  0.15155327,  0.75204735,\n",
              "        0.85212969,  1.05229439,  1.9530355 ,  0.95221204,  0.05147092,\n",
              "        1.25245908,  0.95221204,  1.45262377,  1.15237673,  1.15237673,\n",
              "       -0.04861143,  0.75204735, -0.34885846,  0.35171796, -0.04861143,\n",
              "       -0.14869377,  1.55270612,  1.55270612,  0.55188265, -0.14869377,\n",
              "        0.75204735,  0.75204735,  1.05229439,  0.15155327,  0.45180031,\n",
              "        1.25245908, -0.04861143, -0.14869377, -0.8492702 , -0.04861143,\n",
              "        0.95221204,  1.35254143,  0.75204735,  1.75287081,  0.45180031,\n",
              "       -0.74918785, -0.94935254,  1.65278847,  0.95221204,  0.95221204,\n",
              "        0.95221204,  1.05229439,  1.65278847,  2.05311785,  1.9530355 ,\n",
              "       -0.74918785,  1.55270612,  0.95221204,  1.05229439,  1.15237673,\n",
              "        1.15237673,  0.85212969,  0.85212969,  1.05229439,  2.25328254,\n",
              "       -0.24877612, -0.54902316,  1.05229439, -0.54902316, -0.44894081,\n",
              "        1.45262377,  1.05229439,  1.45262377, -0.14869377,  1.25245908,\n",
              "        1.55270612,  1.15237673, -0.54902316, -0.54902316,  0.25163561,\n",
              "       -0.04861143,  2.25328254, -0.24877612,  1.55270612,  2.1532002 ,\n",
              "        0.55188265,  1.05229439,  0.15155327,  0.15155327,  2.25328254,\n",
              "        1.45262377,  1.05229439,  0.15155327,  1.85295316,  1.05229439])"
            ]
          },
          "metadata": {
            "tags": []
          },
          "execution_count": 56
        }
      ]
    },
    {
      "cell_type": "code",
      "metadata": {
        "id": "p0A9tme3wYHh",
        "colab": {
          "base_uri": "https://localhost:8080/",
          "height": 295
        },
        "outputId": "c3d5f9aa-1926-4c65-ed25-66d4b1609408"
      },
      "source": [
        "# Visualizing the training set results\n",
        "from matplotlib.colors import ListedColormap\n",
        "X_set, y_set = X_train, y_train\n",
        "X1, X2 = np.meshgrid(np.arange(start = X_set[:, 0].min() - 1, stop = X_set[:, 0].max() + 1, step = 0.01),\n",
        "                     np.arange(start = X_set[:, 1].min() - 1, stop = X_set[:, 1].max() + 1, step = 0.01))\n",
        "plt.contourf(X1, X2, classifier.predict(np.array([X1.ravel(), X2.ravel()]).T).reshape(X1.shape),\n",
        "             alpha = 0.75, cmap = ListedColormap(('red', 'black')))\n",
        "plt.xlim(X1.min(), X1.max())\n",
        "plt.ylim(X2.min(), X2.max())\n",
        "for i, j in enumerate(np.unique(y_set)):\n",
        "    plt.scatter(X_set[y_set == j, 0], X_set[y_set == j, 1],\n",
        "                c = ListedColormap(('yellow', 'green'))(i), label = j)\n",
        "plt.title('SVM (Training set)')\n",
        "plt.xlabel('Age (standardized)')\n",
        "plt.ylabel('Estimated Salary (standardized)')\n",
        "plt.legend()\n",
        "plt.show()"
      ],
      "execution_count": 57,
      "outputs": [
        {
          "output_type": "display_data",
          "data": {
            "image/png": "[encoded data removed]",
            "text/plain": [
              "<Figure size 432x288 with 1 Axes>"
            ]
          },
          "metadata": {
            "tags": [],
            "needs_background": "light"
          }
        }
      ]
    },
    {
      "cell_type": "markdown",
      "metadata": {
        "id": "IXeRcyZEwYHj"
      },
      "source": [
        "## Visualize the feature values and decisions on another scatter plot.  Also plot the line that is used to separate the two classes.\n",
        "### Notes: Can use the original values or standardized values for age and salary"
      ]
    },
    {
      "cell_type": "code",
      "metadata": {
        "id": "M5zKr0UBwYHj",
        "colab": {
          "base_uri": "https://localhost:8080/",
          "height": 295
        },
        "outputId": "0e45b7b0-ced7-4561-d08b-cbc80621e572"
      },
      "source": [
        "# Visualizing the test set results\n",
        "from matplotlib.colors import ListedColormap\n",
        "X_set, y_set = X_test, y_test\n",
        "X1, X2 = np.meshgrid(np.arange(start = X_set[:, 0].min() - 1, stop = X_set[:, 0].max() + 1, step = 0.01),\n",
        "                     np.arange(start = X_set[:, 1].min() - 1, stop = X_set[:, 1].max() + 1, step = 0.01))\n",
        "plt.contourf(X1, X2, classifier.predict(np.array([X1.ravel(), X2.ravel()]).T).reshape(X1.shape),\n",
        "             alpha = 0.75, cmap = ListedColormap(('red', 'black')))\n",
        "plt.xlim(X1.min(), X1.max())\n",
        "plt.ylim(X2.min(), X2.max())\n",
        "for i, j in enumerate(np.unique(y_set)):\n",
        "    plt.scatter(X_set[y_set == j, 0], X_set[y_set == j, 1],\n",
        "                c = ListedColormap(('yellow', 'green'))(i), label = j)\n",
        "plt.title('SVM (Test set)')\n",
        "plt.xlabel('Age (standardized)')\n",
        "plt.ylabel('Estimated Salary (standardized)')\n",
        "plt.legend()\n",
        "plt.show()"
      ],
      "execution_count": 58,
      "outputs": [
        {
          "output_type": "display_data",
          "data": {
            "image/png": "[encoded data removed]",
            "text/plain": [
              "<Figure size 432x288 with 1 Axes>"
            ]
          },
          "metadata": {
            "tags": [],
            "needs_background": "light"
          }
        }
      ]
    }
  ]
}